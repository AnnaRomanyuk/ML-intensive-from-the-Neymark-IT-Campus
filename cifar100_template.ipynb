{
  "metadata": {
    "kernelspec": {
      "language": "python",
      "display_name": "Python 3",
      "name": "python3"
    },
    "language_info": {
      "name": "python",
      "version": "3.7.12",
      "mimetype": "text/x-python",
      "codemirror_mode": {
        "name": "ipython",
        "version": 3
      },
      "pygments_lexer": "ipython3",
      "nbconvert_exporter": "python",
      "file_extension": ".py"
    },
    "colab": {
      "provenance": []
    }
  },
  "nbformat_minor": 0,
  "nbformat": 4,
  "cells": [
    {
      "cell_type": "markdown",
      "source": [
        "**Классификация изображений с помощью сверточных нейронных сетей**\n",
        "\n",
        "В данном задании Вам необходимо разработать архитектуру сверточной ИНС, обеспечивающую наибольшую точность при ограничении на количество операций (FLOPs <= 0.707e6).\n",
        "Заготовка кода для выполнения задания приведена выше. Вашей задачей будет заполнить пропущеные места, которые отмечены ключевым словом *None*.\n",
        "Необходимая точность (accuracy) сети на датасете CIFAR100 - 30%\n",
        "Желаемая точность (accuracy) сети на датасете CIFAR100 - 45%"
      ],
      "metadata": {
        "id": "93uOOJwTIsXm"
      }
    },
    {
      "cell_type": "code",
      "source": [
        "!pip install keras-flops"
      ],
      "metadata": {
        "execution": {
          "iopub.status.busy": "2023-01-25T13:18:37.582704Z",
          "iopub.execute_input": "2023-01-25T13:18:37.583150Z",
          "iopub.status.idle": "2023-01-25T13:19:24.145112Z",
          "shell.execute_reply.started": "2023-01-25T13:18:37.583106Z",
          "shell.execute_reply": "2023-01-25T13:19:24.143563Z"
        },
        "trusted": true,
        "colab": {
          "base_uri": "https://localhost:8080/"
        },
        "id": "LfcwMAHcIsXu",
        "outputId": "6566a471-69d6-4d8b-c1d6-766de0caeebb"
      },
      "execution_count": 1,
      "outputs": [
        {
          "output_type": "stream",
          "name": "stdout",
          "text": [
            "Looking in indexes: https://pypi.org/simple, https://us-python.pkg.dev/colab-wheels/public/simple/\n",
            "Collecting keras-flops\n",
            "  Downloading keras_flops-0.1.2-py3-none-any.whl (5.3 kB)\n",
            "Requirement already satisfied: tensorflow<3.0,>=2.2 in /usr/local/lib/python3.8/dist-packages (from keras-flops) (2.9.2)\n",
            "Requirement already satisfied: tensorboard<2.10,>=2.9 in /usr/local/lib/python3.8/dist-packages (from tensorflow<3.0,>=2.2->keras-flops) (2.9.1)\n",
            "Requirement already satisfied: grpcio<2.0,>=1.24.3 in /usr/local/lib/python3.8/dist-packages (from tensorflow<3.0,>=2.2->keras-flops) (1.51.1)\n",
            "Requirement already satisfied: typing-extensions>=3.6.6 in /usr/local/lib/python3.8/dist-packages (from tensorflow<3.0,>=2.2->keras-flops) (4.4.0)\n",
            "Requirement already satisfied: termcolor>=1.1.0 in /usr/local/lib/python3.8/dist-packages (from tensorflow<3.0,>=2.2->keras-flops) (2.2.0)\n",
            "Requirement already satisfied: packaging in /usr/local/lib/python3.8/dist-packages (from tensorflow<3.0,>=2.2->keras-flops) (21.3)\n",
            "Requirement already satisfied: astunparse>=1.6.0 in /usr/local/lib/python3.8/dist-packages (from tensorflow<3.0,>=2.2->keras-flops) (1.6.3)\n",
            "Requirement already satisfied: google-pasta>=0.1.1 in /usr/local/lib/python3.8/dist-packages (from tensorflow<3.0,>=2.2->keras-flops) (0.2.0)\n",
            "Requirement already satisfied: keras<2.10.0,>=2.9.0rc0 in /usr/local/lib/python3.8/dist-packages (from tensorflow<3.0,>=2.2->keras-flops) (2.9.0)\n",
            "Requirement already satisfied: protobuf<3.20,>=3.9.2 in /usr/local/lib/python3.8/dist-packages (from tensorflow<3.0,>=2.2->keras-flops) (3.19.6)\n",
            "Requirement already satisfied: six>=1.12.0 in /usr/local/lib/python3.8/dist-packages (from tensorflow<3.0,>=2.2->keras-flops) (1.15.0)\n",
            "Requirement already satisfied: numpy>=1.20 in /usr/local/lib/python3.8/dist-packages (from tensorflow<3.0,>=2.2->keras-flops) (1.21.6)\n",
            "Requirement already satisfied: opt-einsum>=2.3.2 in /usr/local/lib/python3.8/dist-packages (from tensorflow<3.0,>=2.2->keras-flops) (3.3.0)\n",
            "Requirement already satisfied: libclang>=13.0.0 in /usr/local/lib/python3.8/dist-packages (from tensorflow<3.0,>=2.2->keras-flops) (15.0.6.1)\n",
            "Requirement already satisfied: absl-py>=1.0.0 in /usr/local/lib/python3.8/dist-packages (from tensorflow<3.0,>=2.2->keras-flops) (1.3.0)\n",
            "Requirement already satisfied: setuptools in /usr/local/lib/python3.8/dist-packages (from tensorflow<3.0,>=2.2->keras-flops) (57.4.0)\n",
            "Requirement already satisfied: tensorflow-io-gcs-filesystem>=0.23.1 in /usr/local/lib/python3.8/dist-packages (from tensorflow<3.0,>=2.2->keras-flops) (0.29.0)\n",
            "Requirement already satisfied: wrapt>=1.11.0 in /usr/local/lib/python3.8/dist-packages (from tensorflow<3.0,>=2.2->keras-flops) (1.14.1)\n",
            "Requirement already satisfied: flatbuffers<2,>=1.12 in /usr/local/lib/python3.8/dist-packages (from tensorflow<3.0,>=2.2->keras-flops) (1.12)\n",
            "Requirement already satisfied: h5py>=2.9.0 in /usr/local/lib/python3.8/dist-packages (from tensorflow<3.0,>=2.2->keras-flops) (3.1.0)\n",
            "Requirement already satisfied: tensorflow-estimator<2.10.0,>=2.9.0rc0 in /usr/local/lib/python3.8/dist-packages (from tensorflow<3.0,>=2.2->keras-flops) (2.9.0)\n",
            "Requirement already satisfied: keras-preprocessing>=1.1.1 in /usr/local/lib/python3.8/dist-packages (from tensorflow<3.0,>=2.2->keras-flops) (1.1.2)\n",
            "Requirement already satisfied: gast<=0.4.0,>=0.2.1 in /usr/local/lib/python3.8/dist-packages (from tensorflow<3.0,>=2.2->keras-flops) (0.4.0)\n",
            "Requirement already satisfied: wheel<1.0,>=0.23.0 in /usr/local/lib/python3.8/dist-packages (from astunparse>=1.6.0->tensorflow<3.0,>=2.2->keras-flops) (0.38.4)\n",
            "Requirement already satisfied: tensorboard-data-server<0.7.0,>=0.6.0 in /usr/local/lib/python3.8/dist-packages (from tensorboard<2.10,>=2.9->tensorflow<3.0,>=2.2->keras-flops) (0.6.1)\n",
            "Requirement already satisfied: google-auth-oauthlib<0.5,>=0.4.1 in /usr/local/lib/python3.8/dist-packages (from tensorboard<2.10,>=2.9->tensorflow<3.0,>=2.2->keras-flops) (0.4.6)\n",
            "Requirement already satisfied: markdown>=2.6.8 in /usr/local/lib/python3.8/dist-packages (from tensorboard<2.10,>=2.9->tensorflow<3.0,>=2.2->keras-flops) (3.4.1)\n",
            "Requirement already satisfied: requests<3,>=2.21.0 in /usr/local/lib/python3.8/dist-packages (from tensorboard<2.10,>=2.9->tensorflow<3.0,>=2.2->keras-flops) (2.25.1)\n",
            "Requirement already satisfied: tensorboard-plugin-wit>=1.6.0 in /usr/local/lib/python3.8/dist-packages (from tensorboard<2.10,>=2.9->tensorflow<3.0,>=2.2->keras-flops) (1.8.1)\n",
            "Requirement already satisfied: werkzeug>=1.0.1 in /usr/local/lib/python3.8/dist-packages (from tensorboard<2.10,>=2.9->tensorflow<3.0,>=2.2->keras-flops) (1.0.1)\n",
            "Requirement already satisfied: google-auth<3,>=1.6.3 in /usr/local/lib/python3.8/dist-packages (from tensorboard<2.10,>=2.9->tensorflow<3.0,>=2.2->keras-flops) (2.16.0)\n",
            "Requirement already satisfied: pyparsing!=3.0.5,>=2.0.2 in /usr/local/lib/python3.8/dist-packages (from packaging->tensorflow<3.0,>=2.2->keras-flops) (3.0.9)\n",
            "Requirement already satisfied: cachetools<6.0,>=2.0.0 in /usr/local/lib/python3.8/dist-packages (from google-auth<3,>=1.6.3->tensorboard<2.10,>=2.9->tensorflow<3.0,>=2.2->keras-flops) (5.2.1)\n",
            "Requirement already satisfied: pyasn1-modules>=0.2.1 in /usr/local/lib/python3.8/dist-packages (from google-auth<3,>=1.6.3->tensorboard<2.10,>=2.9->tensorflow<3.0,>=2.2->keras-flops) (0.2.8)\n",
            "Requirement already satisfied: rsa<5,>=3.1.4 in /usr/local/lib/python3.8/dist-packages (from google-auth<3,>=1.6.3->tensorboard<2.10,>=2.9->tensorflow<3.0,>=2.2->keras-flops) (4.9)\n",
            "Requirement already satisfied: requests-oauthlib>=0.7.0 in /usr/local/lib/python3.8/dist-packages (from google-auth-oauthlib<0.5,>=0.4.1->tensorboard<2.10,>=2.9->tensorflow<3.0,>=2.2->keras-flops) (1.3.1)\n",
            "Requirement already satisfied: importlib-metadata>=4.4 in /usr/local/lib/python3.8/dist-packages (from markdown>=2.6.8->tensorboard<2.10,>=2.9->tensorflow<3.0,>=2.2->keras-flops) (6.0.0)\n",
            "Requirement already satisfied: urllib3<1.27,>=1.21.1 in /usr/local/lib/python3.8/dist-packages (from requests<3,>=2.21.0->tensorboard<2.10,>=2.9->tensorflow<3.0,>=2.2->keras-flops) (1.24.3)\n",
            "Requirement already satisfied: chardet<5,>=3.0.2 in /usr/local/lib/python3.8/dist-packages (from requests<3,>=2.21.0->tensorboard<2.10,>=2.9->tensorflow<3.0,>=2.2->keras-flops) (4.0.0)\n",
            "Requirement already satisfied: certifi>=2017.4.17 in /usr/local/lib/python3.8/dist-packages (from requests<3,>=2.21.0->tensorboard<2.10,>=2.9->tensorflow<3.0,>=2.2->keras-flops) (2022.12.7)\n",
            "Requirement already satisfied: idna<3,>=2.5 in /usr/local/lib/python3.8/dist-packages (from requests<3,>=2.21.0->tensorboard<2.10,>=2.9->tensorflow<3.0,>=2.2->keras-flops) (2.10)\n",
            "Requirement already satisfied: zipp>=0.5 in /usr/local/lib/python3.8/dist-packages (from importlib-metadata>=4.4->markdown>=2.6.8->tensorboard<2.10,>=2.9->tensorflow<3.0,>=2.2->keras-flops) (3.11.0)\n",
            "Requirement already satisfied: pyasn1<0.5.0,>=0.4.6 in /usr/local/lib/python3.8/dist-packages (from pyasn1-modules>=0.2.1->google-auth<3,>=1.6.3->tensorboard<2.10,>=2.9->tensorflow<3.0,>=2.2->keras-flops) (0.4.8)\n",
            "Requirement already satisfied: oauthlib>=3.0.0 in /usr/local/lib/python3.8/dist-packages (from requests-oauthlib>=0.7.0->google-auth-oauthlib<0.5,>=0.4.1->tensorboard<2.10,>=2.9->tensorflow<3.0,>=2.2->keras-flops) (3.2.2)\n",
            "Installing collected packages: keras-flops\n",
            "Successfully installed keras-flops-0.1.2\n"
          ]
        }
      ]
    },
    {
      "cell_type": "code",
      "source": [
        "# Импорт необходимых библиотек\n",
        "import numpy as np\n",
        "import pandas as pd\n",
        "import tensorflow as tf\n",
        "from keras_flops import get_flops"
      ],
      "metadata": {
        "_uuid": "8f2839f25d086af736a60e9eeb907d3b93b6e0e5",
        "_cell_guid": "b1076dfc-b9ad-4769-8c92-a6c4dae69d19",
        "execution": {
          "iopub.status.busy": "2023-01-25T12:15:26.838522Z",
          "iopub.execute_input": "2023-01-25T12:15:26.839388Z",
          "iopub.status.idle": "2023-01-25T12:15:26.882006Z",
          "shell.execute_reply.started": "2023-01-25T12:15:26.839325Z",
          "shell.execute_reply": "2023-01-25T12:15:26.880452Z"
        },
        "trusted": true,
        "id": "Hqdz38u6IsXv"
      },
      "execution_count": 2,
      "outputs": []
    },
    {
      "cell_type": "code",
      "source": [
        "# Глобальные константы\n",
        "CLASSES       = 100\n",
        "BATCH_SIZE    = 128\n",
        "LEARNING_RATE = 1e-2"
      ],
      "metadata": {
        "trusted": true,
        "id": "3ssGrEUPIsXx"
      },
      "execution_count": 3,
      "outputs": []
    },
    {
      "cell_type": "code",
      "source": [
        "# Выполните загрузку модели\n",
        "(X_train, y_train), (X_val, y_val) = tf.keras.datasets.cifar100.load_data()"
      ],
      "metadata": {
        "trusted": true,
        "colab": {
          "base_uri": "https://localhost:8080/"
        },
        "id": "PE7ZznuQIsXx",
        "outputId": "3a2dadd0-0eba-4dfb-b4e1-a0f908a32996"
      },
      "execution_count": 5,
      "outputs": [
        {
          "output_type": "stream",
          "name": "stdout",
          "text": [
            "Downloading data from https://www.cs.toronto.edu/~kriz/cifar-100-python.tar.gz\n",
            "169001437/169001437 [==============================] - 6s 0us/step\n"
          ]
        }
      ]
    },
    {
      "cell_type": "code",
      "source": [
        "# Преобразуйте метки классов в one_hot формат\n",
        "y_train = (y_train == np.arange(CLASSES)).astype(np.float32)\n",
        "y_val = (y_val == np.arange(CLASSES)).astype(np.float32)"
      ],
      "metadata": {
        "trusted": true,
        "id": "jJosdrq8IsXy"
      },
      "execution_count": 6,
      "outputs": []
    },
    {
      "cell_type": "code",
      "source": [
        "# убедитесь, что данная ячейка выполняется без ошибок\n",
        "assert X_train.shape == (50000, 32, 32, 3)\n",
        "assert X_val.shape == (10000, 32, 32, 3)\n",
        "assert y_train.shape == (50000, 100)\n",
        "assert y_val.shape == (10000, 100)"
      ],
      "metadata": {
        "trusted": true,
        "id": "-Pubh3NZIsXy"
      },
      "execution_count": 7,
      "outputs": []
    },
    {
      "cell_type": "code",
      "source": [
        "# Задайте архитектуру модели\n",
        "model = tf.keras.models.Sequential([\n",
        "    tf.keras.Input(shape=[32,32,3]),\n",
        "    tf.keras.layers.Conv2D(10, 3, padding='same'),\n",
        "    tf.keras.layers.MaxPooling2D(pool_size=16, strides=12, padding = 'same'),\n",
        "    tf.keras.layers.BatchNormalization(),\n",
        "    tf.keras.layers.Activation('relu'),\n",
        "    tf.keras.layers.Flatten(),\n",
        "    tf.keras.layers.Dense(CLASSES),\n",
        "    tf.keras.layers.Activation('softmax')\n",
        "])"
      ],
      "metadata": {
        "trusted": true,
        "id": "UkaGTIzWIsXz"
      },
      "execution_count": 99,
      "outputs": []
    },
    {
      "cell_type": "code",
      "source": [
        "# вычисление количества операций\n",
        "flops = get_flops(model, batch_size=1)\n",
        "print(f\"FLOPs: {(flops / 1e6):.4f}e6\")"
      ],
      "metadata": {
        "trusted": true,
        "colab": {
          "base_uri": "https://localhost:8080/"
        },
        "id": "srislHXVIsX0",
        "outputId": "6e51420b-16dd-45fb-9044-8671232f8680"
      },
      "execution_count": 100,
      "outputs": [
        {
          "output_type": "stream",
          "name": "stdout",
          "text": [
            "FLOPs: 0.6051e6\n"
          ]
        }
      ]
    },
    {
      "cell_type": "code",
      "source": [
        "# вывод краткой информации о модели\n",
        "model.summary()"
      ],
      "metadata": {
        "trusted": true,
        "colab": {
          "base_uri": "https://localhost:8080/"
        },
        "id": "8kIO7EQbIsX1",
        "outputId": "ca60f20a-4dc0-4e5e-d9f8-7400b71b13e2"
      },
      "execution_count": 101,
      "outputs": [
        {
          "output_type": "stream",
          "name": "stdout",
          "text": [
            "Model: \"sequential_41\"\n",
            "_________________________________________________________________\n",
            " Layer (type)                Output Shape              Param #   \n",
            "=================================================================\n",
            " conv2d_42 (Conv2D)          (None, 32, 32, 10)        280       \n",
            "                                                                 \n",
            " max_pooling2d_40 (MaxPoolin  (None, 3, 3, 10)         0         \n",
            " g2D)                                                            \n",
            "                                                                 \n",
            " batch_normalization_41 (Bat  (None, 3, 3, 10)         40        \n",
            " chNormalization)                                                \n",
            "                                                                 \n",
            " activation_82 (Activation)  (None, 3, 3, 10)          0         \n",
            "                                                                 \n",
            " flatten_41 (Flatten)        (None, 90)                0         \n",
            "                                                                 \n",
            " dense_41 (Dense)            (None, 100)               9100      \n",
            "                                                                 \n",
            " activation_83 (Activation)  (None, 100)               0         \n",
            "                                                                 \n",
            "=================================================================\n",
            "Total params: 9,420\n",
            "Trainable params: 9,400\n",
            "Non-trainable params: 20\n",
            "_________________________________________________________________\n"
          ]
        }
      ]
    },
    {
      "cell_type": "code",
      "source": [
        "# параметры данной ячейки могут быть изменены для получения более высокой точности\n",
        "model.compile(\n",
        "    optimizer=tf.keras.optimizers.Adam(\n",
        "        learning_rate=tf.keras.optimizers.schedules.ExponentialDecay(initial_learning_rate=LEARNING_RATE, decay_steps=1000, decay_rate=0.5)\n",
        "    ),\n",
        "    loss=tf.keras.losses.CategoricalCrossentropy(),\n",
        "    metrics=['accuracy']\n",
        ")"
      ],
      "metadata": {
        "trusted": true,
        "id": "3pfhaN82IsX1"
      },
      "execution_count": 102,
      "outputs": []
    },
    {
      "cell_type": "code",
      "source": [
        "# обучения модели\n",
        "model.fit(\n",
        "    x=X_train,\n",
        "    y=y_train,\n",
        "    validation_data=(X_val, y_val),\n",
        "    batch_size=BATCH_SIZE,\n",
        "    callbacks=[\n",
        "        tf.keras.callbacks.ModelCheckpoint(filepath=\"{epoch:02d}-{val_accuracy:.2f}.hdf5\", save_best_only=True),\n",
        "        \n",
        "    ],\n",
        "    use_multiprocessing=True,\n",
        "    workers=8,\n",
        "    epochs=50\n",
        ")"
      ],
      "metadata": {
        "trusted": true,
        "colab": {
          "base_uri": "https://localhost:8080/"
        },
        "id": "r4OhVZ53IsX2",
        "outputId": "8d5765c8-6ebc-4847-b554-9b2264641068"
      },
      "execution_count": 103,
      "outputs": [
        {
          "output_type": "stream",
          "name": "stdout",
          "text": [
            "Epoch 1/50\n",
            "391/391 [==============================] - 25s 62ms/step - loss: 3.7174 - accuracy: 0.1455 - val_loss: 3.4946 - val_accuracy: 0.1930\n",
            "Epoch 2/50\n",
            "391/391 [==============================] - 24s 61ms/step - loss: 3.2638 - accuracy: 0.2253 - val_loss: 3.3648 - val_accuracy: 0.2069\n",
            "Epoch 3/50\n",
            "391/391 [==============================] - 24s 61ms/step - loss: 3.1425 - accuracy: 0.2475 - val_loss: 3.1898 - val_accuracy: 0.2395\n",
            "Epoch 4/50\n",
            "391/391 [==============================] - 24s 61ms/step - loss: 3.0656 - accuracy: 0.2637 - val_loss: 3.1247 - val_accuracy: 0.2545\n",
            "Epoch 5/50\n",
            "391/391 [==============================] - 24s 61ms/step - loss: 3.0193 - accuracy: 0.2723 - val_loss: 3.1097 - val_accuracy: 0.2587\n",
            "Epoch 6/50\n",
            "391/391 [==============================] - 24s 62ms/step - loss: 2.9856 - accuracy: 0.2795 - val_loss: 3.0678 - val_accuracy: 0.2677\n",
            "Epoch 7/50\n",
            "391/391 [==============================] - 24s 61ms/step - loss: 2.9585 - accuracy: 0.2844 - val_loss: 3.0684 - val_accuracy: 0.2717\n",
            "Epoch 8/50\n",
            "391/391 [==============================] - 25s 65ms/step - loss: 2.9392 - accuracy: 0.2873 - val_loss: 3.0451 - val_accuracy: 0.2745\n",
            "Epoch 9/50\n",
            "391/391 [==============================] - 24s 61ms/step - loss: 2.9243 - accuracy: 0.2929 - val_loss: 3.0399 - val_accuracy: 0.2736\n",
            "Epoch 10/50\n",
            "391/391 [==============================] - 24s 61ms/step - loss: 2.9127 - accuracy: 0.2952 - val_loss: 3.0331 - val_accuracy: 0.2729\n",
            "Epoch 11/50\n",
            "391/391 [==============================] - 24s 61ms/step - loss: 2.9053 - accuracy: 0.2975 - val_loss: 3.0253 - val_accuracy: 0.2780\n",
            "Epoch 12/50\n",
            "391/391 [==============================] - 24s 61ms/step - loss: 2.8968 - accuracy: 0.2979 - val_loss: 3.0204 - val_accuracy: 0.2815\n",
            "Epoch 13/50\n",
            "391/391 [==============================] - 24s 62ms/step - loss: 2.8915 - accuracy: 0.3006 - val_loss: 3.0191 - val_accuracy: 0.2811\n",
            "Epoch 14/50\n",
            "391/391 [==============================] - 24s 61ms/step - loss: 2.8896 - accuracy: 0.3004 - val_loss: 3.0151 - val_accuracy: 0.2792\n",
            "Epoch 15/50\n",
            "391/391 [==============================] - 24s 61ms/step - loss: 2.8843 - accuracy: 0.3020 - val_loss: 3.0141 - val_accuracy: 0.2775\n",
            "Epoch 16/50\n",
            "391/391 [==============================] - 24s 62ms/step - loss: 2.8825 - accuracy: 0.3013 - val_loss: 3.0101 - val_accuracy: 0.2811\n",
            "Epoch 17/50\n",
            "391/391 [==============================] - 24s 61ms/step - loss: 2.8812 - accuracy: 0.3018 - val_loss: 3.0101 - val_accuracy: 0.2811\n",
            "Epoch 18/50\n",
            "391/391 [==============================] - 26s 65ms/step - loss: 2.8788 - accuracy: 0.3028 - val_loss: 3.0097 - val_accuracy: 0.2821\n",
            "Epoch 19/50\n",
            "391/391 [==============================] - 24s 62ms/step - loss: 2.8780 - accuracy: 0.3028 - val_loss: 3.0089 - val_accuracy: 0.2820\n",
            "Epoch 20/50\n",
            "391/391 [==============================] - 24s 61ms/step - loss: 2.8775 - accuracy: 0.3012 - val_loss: 3.0088 - val_accuracy: 0.2816\n",
            "Epoch 21/50\n",
            "391/391 [==============================] - 24s 62ms/step - loss: 2.8767 - accuracy: 0.3021 - val_loss: 3.0088 - val_accuracy: 0.2820\n",
            "Epoch 22/50\n",
            "391/391 [==============================] - 24s 61ms/step - loss: 2.8774 - accuracy: 0.3012 - val_loss: 3.0085 - val_accuracy: 0.2819\n",
            "Epoch 23/50\n",
            "391/391 [==============================] - 24s 62ms/step - loss: 2.8747 - accuracy: 0.3039 - val_loss: 3.0085 - val_accuracy: 0.2817\n",
            "Epoch 24/50\n",
            "391/391 [==============================] - 24s 61ms/step - loss: 2.8766 - accuracy: 0.3022 - val_loss: 3.0082 - val_accuracy: 0.2815\n",
            "Epoch 25/50\n",
            "391/391 [==============================] - 24s 61ms/step - loss: 2.8757 - accuracy: 0.3031 - val_loss: 3.0083 - val_accuracy: 0.2816\n",
            "Epoch 26/50\n",
            "391/391 [==============================] - 24s 61ms/step - loss: 2.8744 - accuracy: 0.3017 - val_loss: 3.0082 - val_accuracy: 0.2814\n",
            "Epoch 27/50\n",
            "391/391 [==============================] - 25s 65ms/step - loss: 2.8759 - accuracy: 0.3024 - val_loss: 3.0082 - val_accuracy: 0.2817\n",
            "Epoch 28/50\n",
            "391/391 [==============================] - 24s 62ms/step - loss: 2.8756 - accuracy: 0.3025 - val_loss: 3.0081 - val_accuracy: 0.2819\n",
            "Epoch 29/50\n",
            "391/391 [==============================] - 24s 61ms/step - loss: 2.8758 - accuracy: 0.3028 - val_loss: 3.0082 - val_accuracy: 0.2815\n",
            "Epoch 30/50\n",
            "391/391 [==============================] - 24s 62ms/step - loss: 2.8750 - accuracy: 0.3034 - val_loss: 3.0084 - val_accuracy: 0.2816\n",
            "Epoch 31/50\n",
            "391/391 [==============================] - 24s 62ms/step - loss: 2.8750 - accuracy: 0.3020 - val_loss: 3.0080 - val_accuracy: 0.2815\n",
            "Epoch 32/50\n",
            "391/391 [==============================] - 24s 62ms/step - loss: 2.8751 - accuracy: 0.3034 - val_loss: 3.0080 - val_accuracy: 0.2816\n",
            "Epoch 33/50\n",
            "391/391 [==============================] - 25s 63ms/step - loss: 2.8750 - accuracy: 0.3034 - val_loss: 3.0082 - val_accuracy: 0.2818\n",
            "Epoch 34/50\n",
            "391/391 [==============================] - 24s 62ms/step - loss: 2.8741 - accuracy: 0.3035 - val_loss: 3.0087 - val_accuracy: 0.2813\n",
            "Epoch 35/50\n",
            "391/391 [==============================] - 24s 62ms/step - loss: 2.8753 - accuracy: 0.3032 - val_loss: 3.0084 - val_accuracy: 0.2812\n",
            "Epoch 36/50\n",
            "391/391 [==============================] - 24s 63ms/step - loss: 2.8752 - accuracy: 0.3037 - val_loss: 3.0085 - val_accuracy: 0.2810\n",
            "Epoch 37/50\n",
            "391/391 [==============================] - 25s 65ms/step - loss: 2.8748 - accuracy: 0.3026 - val_loss: 3.0086 - val_accuracy: 0.2816\n",
            "Epoch 38/50\n",
            "391/391 [==============================] - 24s 62ms/step - loss: 2.8757 - accuracy: 0.3023 - val_loss: 3.0081 - val_accuracy: 0.2814\n",
            "Epoch 39/50\n",
            "391/391 [==============================] - 24s 61ms/step - loss: 2.8744 - accuracy: 0.3027 - val_loss: 3.0083 - val_accuracy: 0.2818\n",
            "Epoch 40/50\n",
            "391/391 [==============================] - 24s 62ms/step - loss: 2.8737 - accuracy: 0.3033 - val_loss: 3.0083 - val_accuracy: 0.2814\n",
            "Epoch 41/50\n",
            "391/391 [==============================] - 24s 62ms/step - loss: 2.8744 - accuracy: 0.3035 - val_loss: 3.0082 - val_accuracy: 0.2819\n",
            "Epoch 42/50\n",
            "391/391 [==============================] - 24s 62ms/step - loss: 2.8748 - accuracy: 0.3021 - val_loss: 3.0083 - val_accuracy: 0.2813\n",
            "Epoch 43/50\n",
            "391/391 [==============================] - 24s 62ms/step - loss: 2.8747 - accuracy: 0.3036 - val_loss: 3.0084 - val_accuracy: 0.2816\n",
            "Epoch 44/50\n",
            "391/391 [==============================] - 24s 62ms/step - loss: 2.8740 - accuracy: 0.3025 - val_loss: 3.0086 - val_accuracy: 0.2818\n",
            "Epoch 45/50\n",
            "391/391 [==============================] - 24s 62ms/step - loss: 2.8744 - accuracy: 0.3033 - val_loss: 3.0082 - val_accuracy: 0.2807\n",
            "Epoch 46/50\n",
            "391/391 [==============================] - 26s 66ms/step - loss: 2.8746 - accuracy: 0.3033 - val_loss: 3.0082 - val_accuracy: 0.2818\n",
            "Epoch 47/50\n",
            "391/391 [==============================] - 24s 62ms/step - loss: 2.8743 - accuracy: 0.3032 - val_loss: 3.0084 - val_accuracy: 0.2814\n",
            "Epoch 48/50\n",
            "391/391 [==============================] - 25s 63ms/step - loss: 2.8753 - accuracy: 0.3025 - val_loss: 3.0083 - val_accuracy: 0.2811\n",
            "Epoch 49/50\n",
            "391/391 [==============================] - 25s 64ms/step - loss: 2.8747 - accuracy: 0.3027 - val_loss: 3.0085 - val_accuracy: 0.2816\n",
            "Epoch 50/50\n",
            "391/391 [==============================] - 25s 63ms/step - loss: 2.8741 - accuracy: 0.3039 - val_loss: 3.0080 - val_accuracy: 0.2815\n"
          ]
        },
        {
          "output_type": "execute_result",
          "data": {
            "text/plain": [
              "<keras.callbacks.History at 0x7fa638b26700>"
            ]
          },
          "metadata": {},
          "execution_count": 103
        }
      ]
    },
    {
      "cell_type": "code",
      "source": [],
      "metadata": {
        "id": "MoMWi8z7IsX3"
      },
      "execution_count": null,
      "outputs": []
    }
  ]
}